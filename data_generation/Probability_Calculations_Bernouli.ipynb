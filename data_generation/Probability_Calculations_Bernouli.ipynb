{
 "cells": [
  {
   "cell_type": "code",
   "execution_count": null,
   "metadata": {},
   "outputs": [],
   "source": [
    "import numpy as np\n",
    "import random\n",
    "import itertools\n",
    "import scipy.stats\n",
    "import matplotlib.pyplot as plt\n"
   ]
  },
  {
   "cell_type": "markdown",
   "metadata": {},
   "source": [
    "We assume a logistic decision rule:\n",
    "$$\n",
    "P(Y = y | X = x) = \\frac{1}{1 + \\exp(-yx^Tw)}\n",
    "$$\n",
    "where $$y \\in \\{+1,-1\\}, x,w \\in \\mathbb{R}^d$$ "
   ]
  },
  {
   "cell_type": "code",
   "execution_count": null,
   "metadata": {},
   "outputs": [],
   "source": [
    "#Computes P(Y = y| X = x)\n",
    "def Pr_Y_given_X(y,X,w):\n",
    "    return 1/(1 + np.exp(-y*(np.matmul(X,w))))"
   ]
  },
  {
   "cell_type": "markdown",
   "metadata": {},
   "source": [
    "We assume that $$X = [X_1, \\dots, X_k] \\text{ where } X_i \\sim Bern(p_i)$$"
   ]
  },
  {
   "cell_type": "code",
   "execution_count": null,
   "metadata": {},
   "outputs": [],
   "source": [
    "#Returns all possible outcomes\n",
    "def partitions(n, b):\n",
    "    masks = np.identity(b, dtype=int)\n",
    "    for c in itertools.combinations_with_replacement(masks, n): \n",
    "        yield sum(c)"
   ]
  },
  {
   "cell_type": "markdown",
   "metadata": {},
   "source": [
    "Let $\\mathcal{X}=$ the set of all possible values of $\\{0,1\\}^k$. Then we have:\n",
    "\\begin{align}\n",
    "P(Y = y) = \\sum_{x \\in \\mathcal{X}}P(Y = y | X = x)P(X = x)\n",
    "\\end{align}"
   ]
  },
  {
   "cell_type": "code",
   "execution_count": null,
   "metadata": {},
   "outputs": [],
   "source": [
    "#Computes the probability P(X = x) = P(X1 = x1)*P(X2 = x2)*...*P(X2k = x2k)\n",
    "def binary_prob(x,probs):\n",
    "    prod = 1\n",
    "    for i in range(len(probs)):\n",
    "        prod *= (probs[i]**x[i])*((1 - probs[i])**(1 - x[i]))\n",
    "    return prod"
   ]
  },
  {
   "cell_type": "code",
   "execution_count": null,
   "metadata": {},
   "outputs": [],
   "source": [
    "probs = [0.3, 0.2, 0.5, 0.7]\n",
    "lst = list(itertools.product([0, 1], repeat=len(probs)))\n",
    "\n",
    "AllX = np.array(lst)\n",
    "print(AllX)\n",
    "def PrX(probs,AllX):\n",
    "    def binary_prob(x):\n",
    "        prod = 1\n",
    "        for i in range(len(probs)):\n",
    "            prod *= (probs[i]**x[i])*((1 - probs[i])**(1 - x[i]))\n",
    "        return prod\n",
    "    return np.apply_along_axis(binary_prob, 1, AllX)\n",
    "print(PrX(probs, AllX))"
   ]
  },
  {
   "cell_type": "code",
   "execution_count": null,
   "metadata": {},
   "outputs": [],
   "source": [
    "#Computes P(Y = y), where w has an offset coordinate\n",
    "def Pr_Y(y,w,probs):\n",
    "    AllX = np.array(list(itertools.product([0, 1],repeat=len(probs))))\n",
    "    AllXOffset = np.hstack((AllX, np.ones((AllX.shape[0],1))))\n",
    "    return np.dot(Pr_Y_given_X(y,AllXOffset,w), PrX(probs,AllX))"
   ]
  },
  {
   "cell_type": "code",
   "execution_count": null,
   "metadata": {},
   "outputs": [],
   "source": [
    "w = np.array([0.1, 0.5, 0.2, 0.1, -0.1])\n",
    "probs1 = [0.1, 0.2, 0.5, 0.8]\n",
    "probs2 = [0, 0.2, 0.5, 0.9]\n",
    "PrY = Pr_Y(1,w,probs1)\n",
    "print(\"P(Y = 1) for group 1:\", PrY)\n",
    "PrY = Pr_Y(1,w,probs2)\n",
    "print(\"P(Y = 1) for group 2:\", PrY)"
   ]
  },
  {
   "cell_type": "markdown",
   "metadata": {},
   "source": [
    "Equality of odds: we want the following\n",
    "\\begin{align}\n",
    "P(\\hat{Y} = \\hat{y} | Y = y) = &\\sum_{x \\in \\mathcal{X}}P(\\hat{Y} = \\hat{y} | Y = y, X = x)P(X = x | Y = y)\\\\\n",
    "&= \\frac{\\sum_{x \\in \\mathcal{X}}P(\\hat{Y} = \\hat{y} | X = x)P(Y = y| X = x)P(X = x)}{P(Y = y)}\n",
    "\\end{align}\n",
    "to be the same for both groups for $y, \\hat{y} \\in \\{+1,-1\\}.$"
   ]
  },
  {
   "cell_type": "markdown",
   "metadata": {},
   "source": [
    "So we are interested in the following function: \\begin{align*}\n",
    "difference &= P(\\hat{Y}_1 = 1| Y_1 = y) - P(\\hat{Y}_2 = 1 | Y_2 = y) \\\\\n",
    "&= \\frac{\\sum_{x \\in \\mathcal{X}}P(\\hat{Y}_1 = 1 | X_1 = x)P(Y_1 = y| X_1 = x)P(X_1 = x)}{P(Y_1 = y)} - \\frac{\\sum_{x \\in \\mathcal{X}}P(\\hat{Y}_2 = 1 | X_2 = x)P(Y_2 = y| X_2 = x)P(X_2 = x)}{P(Y_2 = y)} \\\\\n",
    "&= \\frac{\\sum_{x \\in \\mathcal{X}}P(\\hat{Y}_1 = 1 | X_1 = x)P(Y_1 = y| X_1 = x)P(X_1 = x)}{P(Y_1 = y)} - \\frac{\\sum_{x \\in \\mathcal{X}}P(\\hat{Y}_1 = 1 | X_1 = x)P(Y_1 = y| X_1 = x)P(X_2 = x)}{P(Y_2 = y)} \\\\\n",
    "&= \\sum_{x \\in \\mathcal{X}}P(\\hat{Y}_1 = 1|X_1 = x)P(Y_1 = y| X_1 = x)\\left(\\frac{P(X_1 = x)}{P(Y_1 = y)} - \\frac{P(X_2 = x)}{P(Y_2 = y)}\\right)\n",
    "\\end{align*}"
   ]
  },
  {
   "cell_type": "markdown",
   "metadata": {},
   "source": [
    "$\\textbf{Lemma}$.\n",
    "We show that if two groups have probabilities $[p_1, p_2, \\dots, p_k]$ and $[\\bar{p}_1,p_2, \\dots, p_k]$, $p_1 > \\bar{p}_1$, and $w^\\natural_1 > 0$, then increasing $\\hat{w}_1$ increases the difference in opportunity between the two groups. \n",
    "\n",
    "$\\textit{Proof}$.\n",
    "\\begin{align*}\n",
    "\\frac{dP(\\hat{Y} = 1 | Y = 1)}{d\\hat{w}_1} &= \\frac{\\sum_{\\substack{x \\in \\mathcal{X} \\\\ x_1 = 1}}\\frac{\\exp(-x^T\\hat{w})}{(1 + \\exp(-x^T\\hat{w}))^2}P(Y = 1 | X = x)P(X = x)}{P(Y = 1)} \\\\\n",
    "&= \\frac{\\sum_{\\substack{x \\in \\mathcal{X} \\\\ x_1 = 1}}\\frac{\\exp(-x^T\\hat{w})}{(1 + \\exp(-x^T\\hat{w}))^2}P(Y = 1 | X = x)P(X = x)}{\\sum_{x: x_1 = 1}P(Y = 1 | X = x)P(X = x) + \\sum_{x: x_1 = 0}P(Y = 1 | X = x)P(X = x)} \\\\\n",
    "&= \\frac{\\sum_{\\substack{x \\in \\mathcal{X} \\\\ x_1 = 1}}\\frac{\\exp(-x^T\\hat{w})}{(1 + \\exp(-x^T\\hat{w}))^2}P(Y = 1 | X = x)p_1\\prod_{i = 2}^{2^k}p_i^{x_i}(1-p_i)^{1-x_i}}{\\sum_{x: x_1 = 1}P(Y = 1 | X = x)p_1\\prod_{i = 2}^{2^k}p_i^{x_i}(1-p_i)^{1-x_i} + \\sum_{x: x_1 = 0}P(Y = 1 | X = x)(1-p_1)\\prod_{i = 2}^{2^k}p_i^{x_i}(1-p_i)^{1-x_i}} \\\\\n",
    "&= \\frac{p_1\\sum_{\\substack{x \\in \\mathcal{X} \\\\ x_1 = 1}}\\frac{\\exp(-x^T\\hat{w})}{(1 + \\exp(-x^T\\hat{w}))^2}P(Y = 1 | X = x)\\prod_{i = 2}^{2^k}p_i^{x_i}(1-p_i)^{1-x_i}}{p_1\\sum_{x: x_1 = 1}P(Y = 1 | X = x)\\prod_{i = 2}^{2^k}p_i^{x_i}(1-p_i)^{1-x_i} -p_1\\sum_{x: x_1 = 0}P(Y = 1 | X = x)\\prod_{i = 2}^{2^k}p_i^{x_i}(1-p_i)^{1-x_i} + \\sum_{x: x_1 = 0}P(Y = 1 | X = x)\\prod_{i = 2}^{2^k}p_i^{x_i}(1-p_i)^{1-x_i}} \\\\\n",
    "&= \\frac{p_1\\sum_{\\substack{x \\in \\mathcal{X} \\\\ x_1 = 1}}\\frac{\\exp(-x^T\\hat{w})}{(1 + \\exp(-x^T\\hat{w}))^2}P(Y = 1 | X = x)\\prod_{i = 2}^{2^k}p_i^{x_i}(1-p_i)^{1-x_i}}{p_1\\left(\\sum_{x: x_1 = 1}P(Y = 1 | X = x)\\prod_{i = 2}^{2^k}p_i^{x_i}(1-p_i)^{1-x_i} -\\sum_{x: x_1 = 0}P(Y = 1 | X = x)\\prod_{i = 2}^{2^k}p_i^{x_i}(1-p_i)^{1-x_i}\\right) + \\sum_{x: x_1 = 0}P(Y = 1 | X = x)\\prod_{i = 2}^{2^k}p_i^{x_i}(1-p_i)^{1-x_i}}\n",
    "\\end{align*} \n",
    "We observe for group 2, their opportunity is the same expression, except all the $p_1$'s are replaced with $\\bar{p}_1$. Thus, the ratio of their numerators is $p_1/\\bar{p}_1$. The ratio of their denominators is $\\frac{p_1\\cdot s + x}{\\bar{p}_1 \\cdot s + x}$, where $x = \\sum_{x: x_1 = 0}P(Y = 1 | X = x)\\prod_{i = 2}^{2^k}p_i^{x_i}(1-p_i)^{1-x_i} > 0$. Since $w^\\natural_1 > 0$, we have that $\\sum_{x: x_1 = 1}P(Y = 1 | X = x)\\prod_{i = 2}^{2^k}p_i^{x_i}(1-p_i)^{1-x_i} > \\sum_{x: x_1 = 0}P(Y = 1 | X = x)\\prod_{i = 2}^{2^k}p_i^{x_i}(1-p_i)^{1-x_i}$. Thus, $\\frac{p_1\\cdot s + x}{\\bar{p}_1 \\cdot s + x} < \\frac{p_1\\cdot s}{\\bar{p}_1 \\cdot s} = \\frac{p_1}{\\bar{p}_1}$, so $\\frac{dP(\\hat{Y} = 1 | Y = 1; group1)}{d\\hat{w}_1} - \\frac{dP(\\hat{Y} = 1 | Y = 1; group2)}{d\\hat{w}_1} > 0$, so the difference in opportunity increases as $\\hat{w}_1$ increases."
   ]
  },
  {
   "cell_type": "code",
   "execution_count": null,
   "metadata": {},
   "outputs": [],
   "source": [
    "#Computes the group's opportunity/disopportunity\n",
    "def Pr_Yhat_given_Y(y_outcome,y_given,w_hat,w_nat,probs):\n",
    "    AllX = np.array(list(itertools.product([0, 1],repeat=len(probs))))\n",
    "    AllXOffset = np.hstack((AllX, np.ones((AllX.shape[0],1))))\n",
    "    return np.dot(np.multiply(Pr_Y_given_X(y_outcome,AllXOffset,w_hat), \n",
    "                              Pr_Y_given_X(y_given, AllXOffset,w_nat)),PrX(probs, AllX)) / Pr_Y(y_given,w_nat,probs)"
   ]
  },
  {
   "cell_type": "markdown",
   "metadata": {},
   "source": [
    "Predictive Value Parity: we want the following\n",
    "\\begin{align}\n",
    "P(Y = y | \\hat{Y} = \\hat{y}) = &\\sum_{x \\in \\mathcal{X}}P(Y = y | \\hat{Y} = \\hat{y}, X = x)P(X = x | \\hat{Y} = \\hat{y})\\\\\n",
    "&= \\frac{\\sum_{x \\in \\mathcal{X}}P(Y = y | X = x)P(\\hat{Y} = \\hat{y}| X = x)P(X = x)}{P(\\hat{Y} = \\hat{y})}\n",
    "\\end{align}\n",
    "to be the same for both groups for $y, \\hat{y} \\in \\{+1,-1\\}.$"
   ]
  },
  {
   "cell_type": "code",
   "execution_count": null,
   "metadata": {},
   "outputs": [],
   "source": [
    "#Computes the group's positive/negative predictive value \n",
    "def Pr_Y_given_Yhat(y_outcome,y_given,w_hat,w_nat,probs):\n",
    "    AllX =np.array(list(itertools.product([0, 1],repeat=len(probs))))\n",
    "    AllXOffset = np.hstack((AllX, np.ones((AllX.shape[0],1))))\n",
    "    return np.dot(np.multiply(Pr_Y_given_X(y_outcome,AllXOffset,w_nat), \n",
    "                              Pr_Y_given_X(y_given,AllXOffset,w_hat)),PrX(probs, AllX)) / Pr_Y(y_given,w_hat,probs)\n"
   ]
  },
  {
   "cell_type": "code",
   "execution_count": null,
   "metadata": {},
   "outputs": [],
   "source": [
    "probs1 = [0.2, 0.2, 0.2, 0.2]\n",
    "probs2 = [0.7, 0.2, 0.2, 0.2]\n",
    "w_hat = np.array([0.3,0.2,-0.1,0.4,-0.3])\n",
    "w_nat = np.array([0.3,0.2,-0.1,0.4,-0.3])\n",
    "#w_nat = np.array([0.3, 0.1, 0.2, 1, -0.3])\n",
    "print(Pr_Y(1, w_nat, probs1) - Pr_Y(1, w_nat, probs2))\n",
    "PrYhatGivenY1 = Pr_Yhat_given_Y(1,1,w_hat, w_nat, probs1)\n",
    "PrYhatGivenY2 = Pr_Yhat_given_Y(1,1,w_hat, w_nat, probs2)\n",
    "print(\"P(Yhat = 1 | Y = 1) for group 1: \", PrYhatGivenY1)\n",
    "print(\"P(Yhat = 1 | Y = 1) for group 2: \", PrYhatGivenY2)\n",
    "print(\"difference:\", PrYhatGivenY1 - PrYhatGivenY2)\n",
    "PrYGivenYhat1 = Pr_Y_given_Yhat(1,-1,w_hat, w_nat, probs1)\n",
    "PrYGivenYhat2 = Pr_Y_given_Yhat(1,-1,w_hat, w_nat, probs2)\n",
    "print(\"P(Y = 1 | Yhat = 1) for group 1: \", PrYGivenYhat1)\n",
    "print(\"P(Y = 1 | Yhat = 1) for group 2: \", PrYGivenYhat2)\n",
    "print(\"difference:\", PrYGivenYhat1 - PrYGivenYhat2)"
   ]
  },
  {
   "cell_type": "markdown",
   "metadata": {},
   "source": [
    "Our strategy will be to favor minimizing the difference in odds, rather than predictive value, because we experimentally find that the difference in predictive value is quite small compared to the potential difference in odds. The next lemma will illustrate this fact:\n",
    "\n",
    "$\\textbf{Lemma}.$ The difference in predictive value is bounded by $$\\max_{P(Y = 1 | X = x)}P(Y = 1 | \\hat{Y} = 1) - \\min_{P(Y = 1 | X = x)}P(Y = 1 | \\hat{Y} = 1)$$\n",
    "$\\textit{Proof}.$ A group's predictive value is given by: \n",
    "\\begin{align*}\n",
    "P(Y = 1 | \\hat{Y} = 1) = \n",
    "&= \\frac{\\sum_{x \\in \\mathcal{X}}P(Y = 1 | X = x)P(\\hat{Y} = 1| X = x)P(X = x)}{P(\\hat{Y} = 1)} \\\\\n",
    "&= \\frac{\\sum_{x \\in \\mathcal{X}}P(Y = 1 | X = x)P(\\hat{Y} = 1| X = x)P(X = x)}{\\sum_{x \\in \\mathcal{X}}P(\\hat{Y} = 1 | X = x)P(X = x)} \n",
    "\\end{align*}\n",
    "Let $m = \\max_{P(Y = y | X =x)}$. Then we have:\n",
    "\\begin{align*}\n",
    "\\frac{\\sum_{x \\in \\mathcal{X}}P(Y = 1 | X = x)P(\\hat{Y} = 1| X = x)P(X = x)}{\\sum_{x \\in \\mathcal{X}}P(\\hat{Y} = 1 | X = x)P(X = x)}  &\\leq \\frac{\\sum_{x \\in \\mathcal{X}}m\\cdot P(\\hat{Y} = 1| X = x)P(X = x)}{\\sum_{x \\in \\mathcal{X}}P(\\hat{Y} = 1 | X = x)P(X = x)}  \n",
    "\\leq m\n",
    "\\end{align*}\n",
    "Let $l = \\min_{P(Y = y | X = x)}$. Then we have: \n",
    "\\begin{align*}\n",
    "\\frac{\\sum_{x \\in \\mathcal{X}}P(Y = 1 | X = x)P(\\hat{Y} = 1| X = x)P(X = x)}{\\sum_{x \\in \\mathcal{X}}P(\\hat{Y} = 1 | X = x)P(X = x)}  &\\geq \\frac{\\sum_{x \\in \\mathcal{X}}l\\cdot P(\\hat{Y} = 1| X = x)P(X = x)}{\\sum_{x \\in \\mathcal{X}}P(\\hat{Y} = 1 | X = x)P(X = x)}  \n",
    "\\geq l\n",
    "\\end{align*}"
   ]
  },
  {
   "cell_type": "markdown",
   "metadata": {},
   "source": [
    "We observe that the above is not a good bound in practice in that it overestimates the difference in predictive value. The reason is that all the $P(Y = 1 | X = x)$ are equal to each other only if the $w^\\natural$ is the $0$ vector, and in this case, the difference in predictive value will be 0. \n",
    "\n",
    "From the equation for the difference in odds, we also observe that it is bounded as well, equal to \n",
    "\\begin{align*}\n",
    "\\sum_{x \\in \\mathcal{X^*}}P(Y_1 = y| X_1 = x)\\left(\\frac{P(X_1 = x)}{P(Y_1 = y)} - \\frac{P(X_2 = x)}{P(Y_2 = y)}\\right)\n",
    "\\end{align*}\n",
    "where $\\mathcal{X^*}$ is the set of all $x$ such that $\\frac{P(X_1 = x)}{P(Y_1 = y)} - \\frac{P(X_2 = x)}{P(Y_2 = y)} > 0$ (or vice-versa). However, the above Lemma can still be useful, as the following example shows, and it gives intuition as to why the difference in predictive value is less sensitive to change."
   ]
  },
  {
   "cell_type": "code",
   "execution_count": null,
   "metadata": {},
   "outputs": [],
   "source": [
    "#This example shows that even using the above bound, \n",
    "#we can still see how the maximum difference in parity is less than the maximum difference in odds in this example.\n",
    "probs1 = [0.1, 0.2, 0.2, 0.2]\n",
    "probs2 = [0.1, 0.2, 0.2, 0.6]\n",
    "w_hat = np.array([0.2,0.1,0.2,1000,-10.7])\n",
    "w_nat = np.array([0.2, 0.1, 0.2, 0.1, -0.7])\n",
    "PrYhatGivenY1 = Pr_Yhat_given_Y(1,1,w_hat, w_nat, probs1)\n",
    "PrYhatGivenY2 = Pr_Yhat_given_Y(1,1,w_hat, w_nat, probs2)\n",
    "print(\"P(Yhat = 1 | Y = 1) for group 1: \", PrYhatGivenY1)\n",
    "print(\"P(Yhat = 1 | Y = 1) for group 2: \", PrYhatGivenY2)\n",
    "print(\"difference:\", PrYhatGivenY1 - PrYhatGivenY2)\n",
    "PrYGivenYhat1 = Pr_Y_given_Yhat(1,1,w_hat, w_nat, probs1)\n",
    "PrYGivenYhat2 = Pr_Y_given_Yhat(1,1,w_hat, w_nat, probs2)\n",
    "print(\"P(Y = 1 | Yhat = 1) for group 1: \", PrYGivenYhat1)\n",
    "print(\"P(Y = 1 | Yhat = 1) for group 2: \", PrYGivenYhat2)\n",
    "print(\"difference:\", PrYGivenYhat1 - PrYGivenYhat2)\n",
    "print(Pr_Y_given_X(1,[1,1,1,1,1],w_nat)) \n",
    "\n",
    "print(Pr_Y_given_X(1, [0,0,0,0,1], w_nat))"
   ]
  },
  {
   "cell_type": "code",
   "execution_count": null,
   "metadata": {},
   "outputs": [],
   "source": [
    "#Even when w_nat_1 = 0, increasing w_hat_1 still increases inequality\n",
    "probs1 = [0.1, 0.2, 0.2, 0.2]\n",
    "probs2 = [0.2, 0.2, 0.2, 0.2]\n",
    "\n",
    "w_hat = np.array([0.1,0.1,0.2,1,-5.7])\n",
    "#w_hat = np.array([0.2,0.1,0.2,1,-5.7])\n",
    "\n",
    "w_nat = np.array([0.0, 0.1, 0.2, 1, -5.7])\n",
    "PrYhatGivenY1 = Pr_Yhat_given_Y(1,1,w_hat, w_nat, probs1)\n",
    "PrYhatGivenY2 = Pr_Yhat_given_Y(1,1,w_hat, w_nat, probs2)\n",
    "print(\"P(Yhat = 1 | Y = 1) for group 1: \", PrYhatGivenY1)\n",
    "print(\"P(Yhat = 1 | Y = 1) for group 2: \", PrYhatGivenY2)\n",
    "print(\"difference:\", PrYhatGivenY1 - PrYhatGivenY2)\n",
    "PrYGivenYhat1 = Pr_Y_given_Yhat(1,-1,w_hat, w_nat, probs1)\n",
    "PrYGivenYhat2 = Pr_Y_given_Yhat(1,-1,w_hat, w_nat, probs2)\n",
    "print(\"P(Y = 1 | Yhat = 1) for group 1: \", PrYGivenYhat1)\n",
    "print(\"P(Y = 1 | Yhat = 1) for group 2: \", PrYGivenYhat2)\n",
    "print(\"difference:\", PrYGivenYhat1 - PrYGivenYhat2)"
   ]
  },
  {
   "cell_type": "code",
   "execution_count": null,
   "metadata": {},
   "outputs": [],
   "source": [
    "#What if w_nat is negative for a feature?\n",
    "probs1 = [0.1, 0.2, 0.2, 0.2]\n",
    "probs2 = [0.2, 0.2, 0.2, 0.2]\n",
    "w_hat = np.array([-2,0.1,0.2,1,-5.7]) #try varying from 0.0 to 0.3\n",
    "w_nat = np.array([0.3, 0.1, 0.2, 1, -5.7])\n",
    "PrYhatGivenY1 = Pr_Yhat_given_Y(1,1,w_hat, w_nat, probs1)\n",
    "PrYhatGivenY2 = Pr_Yhat_given_Y(1,1,w_hat, w_nat, probs2)\n",
    "print(\"P(Yhat = 1 | Y = 1) for group 1: \", PrYhatGivenY1)\n",
    "print(\"P(Yhat = 1 | Y = 1) for group 2: \", PrYhatGivenY2)\n",
    "print(\"difference:\", PrYhatGivenY1 - PrYhatGivenY2)\n",
    "PrYGivenYhat1 = Pr_Y_given_Yhat(1,-1,w_hat, w_nat, probs1)\n",
    "PrYGivenYhat2 = Pr_Y_given_Yhat(1,-1,w_hat, w_nat, probs2)\n",
    "print(\"P(Y = 1 | Yhat = 1) for group 1: \", PrYGivenYhat1)\n",
    "print(\"P(Y = 1 | Yhat = 1) for group 2: \", PrYGivenYhat2)\n",
    "print(\"difference:\", PrYGivenYhat1 - PrYGivenYhat2)"
   ]
  },
  {
   "cell_type": "code",
   "execution_count": null,
   "metadata": {},
   "outputs": [],
   "source": [
    "def plot_equal_odd(f, y_outcome, y_given, probs1, probs2, w_nat, ws, x,marker, color):\n",
    "    group1 = np.array([Pr_Yhat_given_Y(y_outcome, y_given, w_hat, w_nat, probs1) for w_hat in ws])\n",
    "    group2 = np.array([Pr_Yhat_given_Y(y_outcome, y_given, w_hat, w_nat, probs2) for w_hat in ws])\n",
    "    f(x, group1 - group2, marker = marker, color = color, label = \"opportunity\")\n",
    "def plot_pred_value_parity(f, y_outcome, y_given, probs1, probs2, w_nat, ws, x, marker, color):\n",
    "    group1 = np.array([Pr_Y_given_Yhat(y_outcome, y_given, w_hat, w_nat, probs1) for w_hat in ws])\n",
    "    group2 = np.array([Pr_Y_given_Yhat(y_outcome, y_given, w_hat, w_nat, probs2) for w_hat in ws])\n",
    "    f(x, group1 - group2, marker = marker, color = color, label = \"predictive value\")\n",
    "def plot_stat_parity(f, y, probs, w_nat, ws, x, marker, color):\n",
    "    group1 = np.array([Pr_Y(y_outcome,w_hat,probs1) for w_hat in ws])\n",
    "    group2 = np.array([Pr_Y(y_outcome,w_hat,probs2) for w_hat in ws])\n",
    "    f(x, [accuracy(y,w_hat,w_nat,probs) for w_hat in ws], marker = marker, color = color)"
   ]
  },
  {
   "cell_type": "code",
   "execution_count": null,
   "metadata": {},
   "outputs": [],
   "source": [
    "w_nat = [-0.1, 0.3,-0.1,0.1,-0.5]\n",
    "probs1 = np.random.random_sample(4)\n",
    "probs1 /= np.sum(probs1)\n",
    "print(probs1)\n",
    "probs2 = np.random.random_sample(4)\n",
    "probs2 /= np.sum(probs2)\n",
    "print(probs2)\n",
    "x = np.array(range(-20,21))/10\n",
    "x = np.reshape(x,(x.shape[0],1))\n",
    "w = [0.3,-0.2,0.3,-0.6]\n",
    "w = np.tile(w,(x.shape[0],1))\n",
    "ws = np.hstack((x,w))\n",
    "\n",
    "# plot_accuracy(plt.plot, 1, probs1, w_nat, ws, x, '.', \"blue\")\n",
    "# plot_accuracy(plt.plot, 1, probs2, w_nat, ws, x, '.', \"red\")\n",
    "\n",
    "plot_equal_odd(plt.plot, 1, 1, probs1, probs2, w_nat, ws, x, 'o', \"green\")\n",
    "plot_pred_value_parity(plt.plot, 1, 1, probs1, probs2, w_nat, ws, x,'x', \"green\")\n",
    "plot_equal_odd(plt.plot, 1, -1, probs1, probs2, w_nat, ws, x, 'o', \"black\")\n",
    "plot_pred_value_parity(plt.plot, 1, -1, probs1, probs2, w_nat, ws, x, 'x', \"black\")\n"
   ]
  },
  {
   "cell_type": "code",
   "execution_count": null,
   "metadata": {},
   "outputs": [],
   "source": [
    "probs1 = [0.1, 0.2, 0.2, 0.2]\n",
    "probs2 = [0.2, 0.2, 0.2, 0.2]\n",
    "w_nat = np.array([0.3, 0.2, -0.1, 0.4, -0.3])\n",
    "\n",
    "#We vary the first coordinate of w from -2 to 2 and plot the changes in the metrics\n",
    "x = np.array(range(-30,31))/10\n",
    "x = np.reshape(x,(x.shape[0],1))\n",
    "w = [0.1,0.2,0.1,-0.3]\n",
    "#w = [0,-10,-10,-0.4]\n",
    "w = np.tile(w,(x.shape[0],1))\n",
    "ws = np.hstack((w[:,:0], x,w[:,0:]))\n",
    "#print(ws)\n",
    "#plot_accuracy(plt.plot, 1, probs1, w_nat, ws, x, '.', \"blue\")\n",
    "#plot_accuracy(plt.plot, 1, probs2, w_nat, ws, x, '.', \"red\")\n",
    "\n",
    "plot_equal_odd(plt.plot, 1, 1, probs1, probs2, w_nat, ws, x, 'o', \"green\")\n",
    "plot_pred_value_parity(plt.plot, 1, 1, probs1, probs2, w_nat, ws, x, 'x', \"green\")\n",
    "#plot_equal_odd(plt.plot, 1, -1, probs1, probs2, w_nat, ws, x,'o', \"black\")\n",
    "#plot_pred_value_parity(plt.plot, 1, -1, probs1, probs2, w_nat, ws, x, 'x', \"black\")\n",
    "\n",
    "#print(Pr_Y(1,ws[-1],probs1) - Pr_Y(1,ws[-1],probs2))\n",
    "plt.xlabel('w')\n",
    "plt.ylabel('difference in fairness between group 1 and 2')\n",
    "plt.legend()\n"
   ]
  },
  {
   "cell_type": "code",
   "execution_count": null,
   "metadata": {},
   "outputs": [],
   "source": [
    "probs1 = [0.2, 0.2, 0.2, 0.2]\n",
    "probs2 = [0.2, 0.2, 0.25, 0.2005]\n",
    "w_nat = np.array([0.3, 0.2, 0.1, 0.4, -0.3])\n",
    "\n",
    "#We vary the first coordinate of w from -2 to 2 and plot the changes in the metrics\n",
    "x = np.array(range(-100,101))/10\n",
    "x = np.reshape(x,(x.shape[0],1))\n",
    "w = [0.1,0.2,0.1,-0.3]\n",
    "#w = [0,-10,-10,-0.4]\n",
    "w = np.tile(w,(x.shape[0],1))\n",
    "ws = np.hstack((w[:,:3], x,w[:,3:]))\n",
    "#print(ws)\n",
    "#plot_accuracy(plt.plot, 1, probs1, w_nat, ws, x, '.', \"blue\")\n",
    "#plot_accuracy(plt.plot, 1, probs2, w_nat, ws, x, '.', \"red\")\n",
    "\n",
    "plot_equal_odd(plt.plot, 1, 1, probs1, probs2, w_nat, ws, x, 'o', \"green\")\n",
    "#plot_pred_value_parity(plt.plot, 1, 1, probs1, probs2, w_nat, ws, x, 'x', \"green\")\n",
    "#plot_equal_odd(plt.plot, 1, -1, probs1, probs2, w_nat, ws, x,'o', \"black\")\n",
    "#plot_pred_value_parity(plt.plot, 1, -1, probs1, probs2, w_nat, ws, x, 'x', \"black\")\n",
    "\n",
    "print(Pr_Y(1,ws[-1],probs1) - Pr_Y(1,ws[-1],probs2))"
   ]
  },
  {
   "cell_type": "code",
   "execution_count": null,
   "metadata": {},
   "outputs": [],
   "source": [
    "#plot_accuracy(plt.plot, 1, probs1, w_nat, ws, x, 4, '.', \"blue\")\n",
    "#plot_accuracy(plt.plot, 1, probs2, w_nat, ws, x, 4, '.', \"red\")\n",
    "\n",
    "plot_pred_value_parity(plt.plot, 1, 1, probs1, probs2, w_nat, ws, x,  'x', \"green\")\n",
    "plot_pred_value_parity(plt.plot, 1, -1, probs1, probs2, w_nat, ws, x,  'x', \"black\")\n"
   ]
  },
  {
   "cell_type": "code",
   "execution_count": null,
   "metadata": {},
   "outputs": [],
   "source": [
    "#We generate random ws and plot the spread of the metrics\n",
    "\n",
    "ws = 2*np.random.random_sample((10000,5))-0.5                                                                                                        \n",
    "ws = np.apply_along_axis(lambda x : x/np.sum(x), 1, ws)\n",
    "x = range(10000)\n",
    "# plot_accuracy(plt.scatter, 1, probs1, w_nat, ws, x, 4, '.', \"blue\")\n",
    "# plot_accuracy(plt.scatter, 1, probs2, w_nat, ws, x, 4, '.', \"red\")\n",
    "\n",
    "plot_equal_odd(plt.scatter, 1, 1, probs1, probs2, w_nat, ws, x, 'x', \"green\")\n",
    "plot_pred_value_parity(plt.scatter, 1, 1, probs1, probs2, w_nat, ws, x, 'x', \"black\")"
   ]
  },
  {
   "cell_type": "code",
   "execution_count": null,
   "metadata": {},
   "outputs": [],
   "source": [
    "ws = 2*np.random.random_sample((100,4))\n",
    "offset = -2*np.reshape(np.random.random_sample(100),(100,1))\n",
    "#print(offset.shape)\n",
    "ws = np.hstack((ws, offset))\n",
    "probs1 = np.random.random_sample(4)\n",
    "probs1 /= np.sum(probs1)\n",
    "print(probs1)\n",
    "probs2 = np.random.random_sample(4)\n",
    "probs2 /= np.sum(probs2)\n",
    "print(probs2)\n",
    "#print(ws)\n",
    "# ws = np.apply_along_axis(lambda x : x/np.sum(x), 1, ws)\n",
    "x = range(100)\n",
    "plot_equal_odd(plt.scatter, 1, 1, probs1, probs2, w_nat, ws, x, 'x', \"green\")\n",
    "plot_pred_value_parity(plt.scatter, 1, 1, probs1, probs2, w_nat, ws, x, 'x', \"black\")"
   ]
  },
  {
   "cell_type": "code",
   "execution_count": null,
   "metadata": {},
   "outputs": [],
   "source": []
  }
 ],
 "metadata": {
  "kernelspec": {
   "display_name": "Python 3",
   "language": "python",
   "name": "python3"
  },
  "language_info": {
   "codemirror_mode": {
    "name": "ipython",
    "version": 3
   },
   "file_extension": ".py",
   "mimetype": "text/x-python",
   "name": "python",
   "nbconvert_exporter": "python",
   "pygments_lexer": "ipython3",
   "version": "3.6.5"
  }
 },
 "nbformat": 4,
 "nbformat_minor": 2
}
