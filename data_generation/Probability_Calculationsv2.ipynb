{
 "cells": [
  {
   "cell_type": "code",
   "execution_count": null,
   "metadata": {},
   "outputs": [],
   "source": [
    "import numpy as np\n",
    "import random\n",
    "import itertools\n",
    "import scipy.stats\n",
    "import matplotlib.pyplot as plt\n"
   ]
  },
  {
   "cell_type": "markdown",
   "metadata": {},
   "source": [
    "We assume a logistic decision rule:\n",
    "$$\n",
    "P(Y = y | X = x) = \\frac{1}{1 + \\exp(yx^Tw)}\n",
    "$$\n",
    "where $$y \\in \\{+1,-1\\}, x,w \\in \\mathbb{R}^d$$ "
   ]
  },
  {
   "cell_type": "code",
   "execution_count": null,
   "metadata": {},
   "outputs": [],
   "source": [
    "#Computes P(Y = y| X = x)\n",
    "def Pr_Y_given_X(y,X,w):\n",
    "    return 1/(1 + np.exp(-y*(np.matmul(X,w))))"
   ]
  },
  {
   "cell_type": "markdown",
   "metadata": {},
   "source": [
    "We assume that $$X \\sim Mul(n,p_1, \\dots, p_k)$$"
   ]
  },
  {
   "cell_type": "code",
   "execution_count": null,
   "metadata": {},
   "outputs": [],
   "source": [
    "#Returns all possible multinomial outcomes\n",
    "def partitions(n, b):\n",
    "    masks = np.identity(b, dtype=int)\n",
    "    for c in itertools.combinations_with_replacement(masks, n): \n",
    "        yield sum(c)"
   ]
  },
  {
   "cell_type": "markdown",
   "metadata": {},
   "source": [
    "Let $\\mathcal{X}$ be the support of $X$. Then we have:\n",
    "\\begin{align}\n",
    "P(Y = y) = \\sum_{x \\in \\mathcal{X}}P(Y = y | X = x)P(X = x)\n",
    "\\end{align}"
   ]
  },
  {
   "cell_type": "code",
   "execution_count": null,
   "metadata": {},
   "outputs": [],
   "source": [
    "#Computes P(Y = y)\n",
    "def Pr_Y(y,w,probs,n_trials):\n",
    "    AllX = np.array(list(partitions(n_trials,4)))\n",
    "    AllXOffset = np.hstack((AllX, np.ones((AllX.shape[0],1))))\n",
    "    PrX = scipy.stats.multinomial.pmf(AllX, n = np.full(AllX.shape[0],n_trials), p = probs)\n",
    "    return np.dot(Pr_Y_given_X(y,AllXOffset,w), PrX)"
   ]
  },
  {
   "cell_type": "code",
   "execution_count": null,
   "metadata": {},
   "outputs": [],
   "source": [
    "w = np.array([0.5, 0, 0.2, 0.1, -0.6])\n",
    "probs1 = [0.3,0.2,0.4,0.1]\n",
    "PrY = Pr_Y(1,w,probs1,5)\n",
    "print(\"P(Y = 1) for group 1:\", PrY)\n",
    "probs2 = [0.6,0.2,0.1,0.1]\n",
    "PrY = Pr_Y(1,w,probs2,5)\n",
    "print(\"P(Y = 1) for group 2:\", PrY)"
   ]
  },
  {
   "cell_type": "markdown",
   "metadata": {},
   "source": [
    "Equality of odds: we want the following\n",
    "\\begin{align}\n",
    "P(\\hat{Y} = \\hat{y} | Y = y) = &\\sum_{x \\in \\mathcal{X}}P(\\hat{Y} = \\hat{y} | Y = y, X = x)P(X = x | Y = y)\\\\\n",
    "&= \\frac{\\sum_{x \\in \\mathcal{X}}P(\\hat{Y} = \\hat{y} | X = x)P(Y = y| X = x)P(X = x)}{P(Y = y)}\n",
    "\\end{align}\n",
    "to be the same for both groups for $y, \\hat{y} \\in \\{+1,-1\\}.$"
   ]
  },
  {
   "cell_type": "code",
   "execution_count": null,
   "metadata": {},
   "outputs": [],
   "source": [
    "def Pr_Yhat_given_Y(y_outcome,y_given,w_hat,w_nat,probs,n_trials):\n",
    "    AllX = np.array(list(partitions(n_trials,4)))\n",
    "    AllXOffset = np.hstack((AllX, np.ones((AllX.shape[0],1))))    \n",
    "    PrX = scipy.stats.multinomial.pmf(AllX, n = np.full(AllX.shape[0],n_trials), p = probs)\n",
    "    return np.dot(np.multiply(Pr_Y_given_X(y_outcome,AllXOffset,w_hat), \n",
    "                              Pr_Y_given_X(y_given,AllXOffset,w_nat)),PrX) / Pr_Y(y_given,w_nat,probs,n_trials)"
   ]
  },
  {
   "cell_type": "markdown",
   "metadata": {},
   "source": [
    "Predictive Value Parity: we want the following\n",
    "\\begin{align}\n",
    "P(Y = y | \\hat{Y} = \\hat{y}) = &\\sum_{x \\in \\mathcal{X}}P(Y = y | \\hat{Y} = \\hat{y}, X = x)P(X = x | \\hat{Y} = \\hat{y})\\\\\n",
    "&= \\frac{\\sum_{x \\in \\mathcal{X}}P(Y = y | X = x)P(\\hat{Y} = \\hat{y}| X = x)P(X = x)}{P(\\hat{Y} = \\hat{y})}\n",
    "\\end{align}\n",
    "to be the same for both groups for $y, \\hat{y} \\in \\{+1,-1\\}.$"
   ]
  },
  {
   "cell_type": "code",
   "execution_count": null,
   "metadata": {},
   "outputs": [],
   "source": [
    "def Pr_Y_given_Yhat(y_outcome,y_given,w_hat,w_nat,probs,n_trials):\n",
    "    AllX = np.array(list(partitions(n_trials,4)))\n",
    "    AllXOffset = np.hstack((AllX, np.ones((AllX.shape[0],1))))\n",
    "    PrX = scipy.stats.multinomial.pmf(AllX, n = np.full(AllX.shape[0],n_trials), p = probs)\n",
    "    return np.dot(np.multiply(Pr_Y_given_X(y_outcome,AllXOffset,w_nat), \n",
    "                              Pr_Y_given_X(y_given,AllXOffset,w_hat)),PrX) / Pr_Y(y_given,w_hat,probs,n_trials)\n"
   ]
  },
  {
   "cell_type": "markdown",
   "metadata": {},
   "source": [
    "We define accuracy to be: $$P(Y = 1; \\hat{w}) - P(Y = 1; w^\\natural)$$"
   ]
  },
  {
   "cell_type": "code",
   "execution_count": null,
   "metadata": {},
   "outputs": [],
   "source": [
    "def accuracy(y,w_hat,w_nat,probs,n_trials):\n",
    "    AllX = np.array(list(partitions(n_trials,4)))\n",
    "    AllX = np.hstack((AllX, np.ones((AllX.shape[0],1))))\n",
    "    return Pr_Y(y,w_hat,probs,n_trials) - Pr_Y(y,w_nat,probs,n_trials)"
   ]
  },
  {
   "cell_type": "code",
   "execution_count": null,
   "metadata": {},
   "outputs": [],
   "source": [
    "probs1 = [0.3,0.2,0.4,0.1]\n",
    "probs2 = [0.6,0.2,0.1,0.1]\n",
    "n_trials1 = 4\n",
    "n_trials2 = 4\n",
    "w_hat = np.array([0.9, 0, 0.2, 0.1, -0.7])\n",
    "w_nat = np.array([0.7, 0, 0.2, 0.1, -0.7])\n",
    "PrYhatGivenY1 = Pr_Yhat_given_Y(1,1,w_hat, w_nat, probs1, n_trials1)\n",
    "PrYhatGivenY2 = Pr_Yhat_given_Y(1,1,w_hat, w_nat, probs2, n_trials2)\n",
    "print(\"P(Yhat = 1 | Y = 1) for group 1: \", PrYhatGivenY1)\n",
    "print(\"P(Yhat = 1 | Y = 1) for group 2: \", PrYhatGivenY2)\n",
    "PrYGivenYhat1 = Pr_Y_given_Yhat(1,-1,w_hat, w_nat, probs1,n_trials1)\n",
    "PrYGivenYhat2 = Pr_Y_given_Yhat(1,-1,w_hat, w_nat, probs2,n_trials2)\n",
    "print(\"P(Y = 1 | Yhat = 1) for group 1: \", PrYGivenYhat1)\n",
    "print(\"P(Y = 1 | Yhat = 1) for group 2: \", PrYGivenYhat2)"
   ]
  },
  {
   "cell_type": "code",
   "execution_count": null,
   "metadata": {},
   "outputs": [],
   "source": [
    "def plot_equal_odd(f, y_outcome, y_given, probs1, probs2, w_nat, ws, x, n_trials,marker, color):\n",
    "    group1 = np.array([Pr_Yhat_given_Y(y_outcome, y_given, w_hat, w_nat, probs1, n_trials) for w_hat in ws])\n",
    "    group2 = np.array([Pr_Yhat_given_Y(y_outcome, y_given, w_hat, w_nat, probs2, n_trials) for w_hat in ws])\n",
    "    f(x, group1 - group2, marker = marker, color = color)\n",
    "def plot_pred_value_parity(f, y_outcome, y_given, probs1, probs2, w_nat, ws, x, n_trials, marker, color):\n",
    "    group1 = np.array([Pr_Y_given_Yhat(y_outcome, y_given, w_hat, w_nat, probs1, n_trials) for w_hat in ws])\n",
    "    group2 = np.array([Pr_Y_given_Yhat(y_outcome, y_given, w_hat, w_nat, probs2, n_trials) for w_hat in ws])\n",
    "    f(x, group1 - group2, marker = marker, color = color)\n",
    "def plot_accuracy(f, y, probs, w_nat, ws, x, n_trials, marker, color):\n",
    "    f(x, [accuracy(y,w_hat,w_nat,probs,n_trials) for w_hat in ws], marker = marker, color = color)"
   ]
  },
  {
   "cell_type": "code",
   "execution_count": null,
   "metadata": {},
   "outputs": [],
   "source": [
    "#We vary the first coordinate of w from -2 to 2 and plot the changes in the metrics\n",
    "x = np.array(range(-20,21))/10\n",
    "x = np.reshape(x,(x.shape[0],1))\n",
    "w = [0.1,0.2,0.1,-0.4]\n",
    "w = np.tile(w,(x.shape[0],1))\n",
    "ws = np.hstack((x,w))\n",
    "\n",
    "plot_accuracy(plt.plot, 1, probs1, w_nat, ws, x, 4, '.', \"blue\")\n",
    "plot_accuracy(plt.plot, 1, probs2, w_nat, ws, x, 4, '.', \"red\")\n",
    "\n",
    "plot_equal_odd(plt.plot, 1, 1, probs1, probs2, w_nat, ws, x, 4, 'o', \"green\")\n",
    "plot_pred_value_parity(plt.plot, 1, 1, probs1, probs2, w_nat, ws, x, 4, 'x', \"green\")\n",
    "plot_equal_odd(plt.plot, 1, -1, probs1, probs2, w_nat, ws, x, 4, 'o', \"black\")\n",
    "plot_pred_value_parity(plt.plot, 1, -1, probs1, probs2, w_nat, ws, x, 4, 'x', \"black\")\n",
    "\n"
   ]
  },
  {
   "cell_type": "code",
   "execution_count": null,
   "metadata": {},
   "outputs": [],
   "source": [
    "plot_accuracy(plt.plot, 1, probs1, w_nat, ws, x, 4, '.', \"blue\")\n",
    "plot_accuracy(plt.plot, 1, probs2, w_nat, ws, x, 4, '.', \"red\")\n",
    "\n",
    "plot_pred_value_parity(plt.plot, 1, 1, probs1, probs2, w_nat, ws, x, 4, 'x', \"green\")\n",
    "plot_pred_value_parity(plt.plot, 1, -1, probs1, probs2, w_nat, ws, x, 4, 'x', \"black\")\n"
   ]
  },
  {
   "cell_type": "code",
   "execution_count": null,
   "metadata": {},
   "outputs": [],
   "source": [
    "#We generate random ws and plot the spread of the metrics\n",
    "\n",
    "ws = 2*np.random.random_sample((10000,5))-0.5\n",
    "ws = np.apply_along_axis(lambda x : x/np.sum(x), 1, ws)\n",
    "x = range(10000)\n",
    "plot_accuracy(plt.scatter, 1, probs1, w_nat, ws, x, 4, '.', \"blue\")\n",
    "plot_accuracy(plt.scatter, 1, probs2, w_nat, ws, x, 4, '.', \"red\")\n",
    "\n",
    "plot_equal_odd(plt.scatter, 1, 1, probs1, probs2, w_nat, ws, x, 4, 'x', \"green\")\n",
    "plot_pred_value_parity(plt.scatter, 1, 1, probs1, probs2, w_nat, ws, x, 4, 'x', \"black\")"
   ]
  },
  {
   "cell_type": "code",
   "execution_count": null,
   "metadata": {},
   "outputs": [],
   "source": [
    "ws = 2*np.random.random_sample((100,5))-0.5\n",
    "ws = np.apply_along_axis(lambda x : x/np.sum(x), 1, ws)\n",
    "x = range(100)\n",
    "plot_equal_odd(plt.scatter, 1, 1, probs1, probs2, w_nat, ws, x, 4, 'x', \"green\")\n",
    "plot_pred_value_parity(plt.scatter, 1, 1, probs1, probs2, w_nat, ws, x, 4, 'x', \"black\")"
   ]
  }
 ],
 "metadata": {
  "kernelspec": {
   "display_name": "Python 3",
   "language": "python",
   "name": "python3"
  },
  "language_info": {
   "codemirror_mode": {
    "name": "ipython",
    "version": 3
   },
   "file_extension": ".py",
   "mimetype": "text/x-python",
   "name": "python",
   "nbconvert_exporter": "python",
   "pygments_lexer": "ipython3",
   "version": "3.7.2"
  }
 },
 "nbformat": 4,
 "nbformat_minor": 2
}
