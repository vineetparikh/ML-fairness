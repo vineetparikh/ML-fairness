{
 "cells": [
  {
   "cell_type": "code",
   "execution_count": null,
   "metadata": {},
   "outputs": [],
   "source": [
    "import pandas as pd\n",
    "import numpy as np\n",
    "import matplotlib.pyplot as plt\n",
    "pd.set_option('display.max_columns', 500)\n",
    "pd.set_option('display.max_rows', 100)\n"
   ]
  },
  {
   "cell_type": "code",
   "execution_count": null,
   "metadata": {},
   "outputs": [],
   "source": [
    "df = pd.read_csv(\"datasets/german_credit.csv\")"
   ]
  },
  {
   "cell_type": "code",
   "execution_count": null,
   "metadata": {},
   "outputs": [],
   "source": [
    "df['Sex & Marital Status'] = ((df['Sex & Marital Status'] == 2) | (df['Sex & Marital Status'] == 5)).astype(int)"
   ]
  },
  {
   "cell_type": "code",
   "execution_count": null,
   "metadata": {},
   "outputs": [],
   "source": [
    "df_male = df[df['Sex & Marital Status'] == 0]\n",
    "df_female = df[df['Sex & Marital Status'] == 1]\n",
    "df.drop(columns = ['Sex & Marital Status'])\n",
    "df_male.drop(columns = ['Sex & Marital Status'])\n",
    "df_female.drop(columns = ['Sex & Marital Status'])"
   ]
  },
  {
   "cell_type": "code",
   "execution_count": null,
   "metadata": {},
   "outputs": [],
   "source": [
    "df_male = pd.get_dummies(df_male, columns = ['Account Balance', 'Payment Status of Previous Credit', 'Purpose', 'Guarantors','Most valuable available asset', 'Type of apartment', 'Occupation', 'Telephone', 'Foreign Worker'])\n",
    "df_female = pd.get_dummies(df_female, columns = ['Account Balance', 'Payment Status of Previous Credit', 'Purpose', 'Guarantors','Most valuable available asset', 'Type of apartment', 'Occupation', 'Telephone', 'Foreign Worker'])\n",
    "df = pd.get_dummies(df, columns = ['Account Balance', 'Payment Status of Previous Credit', 'Purpose', 'Guarantors','Most valuable available asset', 'Type of apartment', 'Occupation', 'Telephone', 'Foreign Worker'])"
   ]
  },
  {
   "cell_type": "code",
   "execution_count": null,
   "metadata": {},
   "outputs": [],
   "source": [
    "df_male.head(10)"
   ]
  },
  {
   "cell_type": "code",
   "execution_count": null,
   "metadata": {},
   "outputs": [],
   "source": [
    "data = np.array(df)\n",
    "#print(data.shape)\n",
    "cols = list(df.columns)\n",
    "#print(cols)\n",
    "cols.append('Intercept')\n",
    "cols.remove('Creditability')"
   ]
  },
  {
   "cell_type": "code",
   "execution_count": null,
   "metadata": {},
   "outputs": [],
   "source": [
    "data = np.array(df)\n",
    "Y = data[:,0]\n",
    "X = np.hstack((data[:,1:], np.ones((data.shape[0],1))))"
   ]
  },
  {
   "cell_type": "code",
   "execution_count": null,
   "metadata": {},
   "outputs": [],
   "source": [
    "print(X)"
   ]
  },
  {
   "cell_type": "code",
   "execution_count": null,
   "metadata": {},
   "outputs": [],
   "source": [
    "from sklearn.linear_model import LogisticRegression"
   ]
  },
  {
   "cell_type": "code",
   "execution_count": null,
   "metadata": {},
   "outputs": [],
   "source": [
    "clf = LogisticRegression(fit_intercept = False).fit(X,Y)\n",
    "print(clf.predict(np.reshape(X[6,:], (1,X.shape[1]))))\n",
    "print(clf.predict_proba(np.reshape(X[6,:], (1,X.shape[1]))))"
   ]
  },
  {
   "cell_type": "code",
   "execution_count": null,
   "metadata": {},
   "outputs": [],
   "source": [
    "print(clf.score(X,Y))"
   ]
  },
  {
   "cell_type": "code",
   "execution_count": null,
   "metadata": {},
   "outputs": [],
   "source": [
    "def accuracy(preds, actuals):\n",
    "    return 1 - np.sum(abs(preds-actuals)) / preds.shape[0]"
   ]
  },
  {
   "cell_type": "code",
   "execution_count": null,
   "metadata": {},
   "outputs": [],
   "source": [
    "preds = clf.predict(X)\n",
    "print(accuracy(preds, Y))"
   ]
  },
  {
   "cell_type": "code",
   "execution_count": null,
   "metadata": {},
   "outputs": [],
   "source": [
    "def Pr_Y_given_X(coef,yhat,X):\n",
    "#     print(X.shape)\n",
    "#     print(coef.shape)\n",
    "    return 1/(1+np.exp(-yhat*np.matmul(X,coef)))"
   ]
  },
  {
   "cell_type": "code",
   "execution_count": null,
   "metadata": {},
   "outputs": [],
   "source": [
    "#print(1/(1 + np.exp(-1*np.dot(np.reshape(X[6,:],X.shape[1]),np.reshape(coef, coef.shape[1])))))"
   ]
  },
  {
   "cell_type": "code",
   "execution_count": null,
   "metadata": {},
   "outputs": [],
   "source": [
    "#print(coef.reshape(coef.shape[1]))"
   ]
  },
  {
   "cell_type": "code",
   "execution_count": null,
   "metadata": {},
   "outputs": [],
   "source": [
    "#print(Pr_Y_given_X(coef.reshape(coef.shape[1]),1,X))"
   ]
  },
  {
   "cell_type": "code",
   "execution_count": null,
   "metadata": {},
   "outputs": [],
   "source": [
    "def P_Y(actuals):\n",
    "    return np.sum(actuals) / actuals.shape[0]"
   ]
  },
  {
   "cell_type": "code",
   "execution_count": null,
   "metadata": {},
   "outputs": [],
   "source": [
    "print(\"P(Y=1 | Male) = \", P_Y(df_male['Creditability']))\n",
    "print(\"P(Y=1 | Female) = \", P_Y(df_female['Creditability']))"
   ]
  },
  {
   "cell_type": "code",
   "execution_count": null,
   "metadata": {},
   "outputs": [],
   "source": [
    "def P_Yhat_given_Y(preds,actuals):\n",
    "    return np.sum(np.multiply(preds, actuals)) / np.sum(actuals)"
   ]
  },
  {
   "cell_type": "code",
   "execution_count": null,
   "metadata": {},
   "outputs": [],
   "source": [
    "def P_Y_given_Yhat(preds,actuals):\n",
    "    return np.sum(np.multiply(preds, actuals)) / np.sum(preds)"
   ]
  },
  {
   "cell_type": "code",
   "execution_count": null,
   "metadata": {},
   "outputs": [],
   "source": [
    "data = np.array(df_male)\n",
    "X_male = np.hstack((data[:,1:], np.ones((data.shape[0],1))))\n",
    "Y_male = data[:,0]\n",
    "preds_male = clf.predict(X_male)\n",
    "print(\"P(Y = 1 | Yhat = 1, Male) = \", P_Y_given_Yhat(preds_male, Y_male))\n",
    "data = np.array(df_female)\n",
    "X_female = np.hstack((data[:,1:], np.ones((data.shape[0],1))))\n",
    "Y_female = data[:,0]\n",
    "preds_female = clf.predict(X_female)\n",
    "print(\"P(Y = 1 | Yhat = 1, Female) = \", P_Y_given_Yhat(preds_female, Y_female))\n",
    "print(\"P(Yhat = 1 | Y = 1, Male) = \", P_Yhat_given_Y(preds_male, Y_male))\n",
    "print(\"P(Yhat = 1 | Y = 1, Female) = \", P_Yhat_given_Y(preds_female, Y_female))\n"
   ]
  },
  {
   "cell_type": "code",
   "execution_count": null,
   "metadata": {},
   "outputs": [],
   "source": [
    "print(\"P(Y=1 | Male) = \", P_Y(preds_male))\n",
    "print(\"P(Y=1 | Female) = \", P_Y(preds_female))"
   ]
  },
  {
   "cell_type": "code",
   "execution_count": null,
   "metadata": {},
   "outputs": [],
   "source": [
    "def P_X(X):\n",
    "    return np.sum(X, axis = 0)/X.shape[0]"
   ]
  },
  {
   "cell_type": "code",
   "execution_count": null,
   "metadata": {},
   "outputs": [],
   "source": [
    "diff = P_X(X_female) - P_X(X_male)"
   ]
  },
  {
   "cell_type": "code",
   "execution_count": null,
   "metadata": {},
   "outputs": [],
   "source": [
    "coef_df = pd.DataFrame(np.vstack((clf.coef_, diff)), columns = cols)"
   ]
  },
  {
   "cell_type": "code",
   "execution_count": null,
   "metadata": {},
   "outputs": [],
   "source": [
    "coef_df.head()"
   ]
  },
  {
   "cell_type": "code",
   "execution_count": null,
   "metadata": {},
   "outputs": [],
   "source": [
    "print(np.array(coef_df.loc[[0]]).flatten())\n",
    "coef_df_adj = coef_df.copy()\n",
    "print(coef_df_adj['Type of apartment_2'][0])"
   ]
  },
  {
   "cell_type": "code",
   "execution_count": null,
   "metadata": {},
   "outputs": [],
   "source": [
    "coefs = np.array(coef_df.loc[[0]]).flatten()\n",
    "probs = Pr_Y_given_X(coefs,1,X_male)\n",
    "preds = np.array([1 if p >= 0.5 else 0 for p in probs])\n",
    "# preds = np.apply_along_axis(lambda x: 1 if x >= 0.5 else 0, 0, Pr_Y_given_X(coefs,1,X_male))\n",
    "# print(preds)\n",
    "# print(accuracy(preds, Y_male))\n",
    "print(coefs)\n",
    "coefs[0] = 0\n",
    "print(probs[1:10])\n",
    "probs = Pr_Y_given_X(coefs,1,X_male)\n",
    "print(probs[1:10])"
   ]
  },
  {
   "cell_type": "code",
   "execution_count": null,
   "metadata": {},
   "outputs": [],
   "source": [
    "x = np.array(range(-60,61))/10\n",
    "delta = np.array(range(-60,61))/10\n",
    "group1 = []\n",
    "group2 = []\n",
    "for d in delta:\n",
    "    coef_df_adj = coef_df.copy()\n",
    "    coef_df_adj.loc[0, 'Foreign Worker_2'] = coef_df_adj['Foreign Worker_2'][0] + d\n",
    "    #print(coef_df_adj.head())\n",
    "    coefs = np.array(coef_df_adj.loc[[0]]).flatten()\n",
    "    #print(coefs)\n",
    "    probs = Pr_Y_given_X(coefs,1,X_male)\n",
    "    #print(probs[1])\n",
    "    preds = np.array([1 if p >= 0.5 else 0 for p in probs])\n",
    "    #print(P_Yhat_given_Y(preds, Y_male))\n",
    "    group1.append(P_Yhat_given_Y(preds, Y_male))\n",
    "    \n",
    "    probs = Pr_Y_given_X(coefs,1,X_female)\n",
    "   # print(probs[1])\n",
    "    preds = np.array([1 if p >= 0.5 else 0 for p in probs])\n",
    "    #print(P_Yhat_given_Y(preds, Y_female))\n",
    "    group2.append(P_Yhat_given_Y(preds, Y_female))\n",
    "    \n",
    "plt.scatter(x, np.array(group1)-np.array(group2))\n",
    "plt.ylabel('Difference in opportunity between group 1 and 2')\n",
    "plt.xlabel('w')\n",
    "    "
   ]
  },
  {
   "cell_type": "code",
   "execution_count": null,
   "metadata": {},
   "outputs": [],
   "source": [
    "x = np.array(range(-100,101))/10\n",
    "delta = np.array(range(-100,101))/10\n",
    "group1 = []\n",
    "group2 = []\n",
    "for d in delta:\n",
    "    coef_df_adj = coef_df.copy()\n",
    "    coef_df_adj.loc[0, 'Foreign Worker_2'] = coef_df_adj['Foreign Worker_2'][0] + d\n",
    "    #print(coef_df_adj.head())\n",
    "    coefs = np.array(coef_df_adj.loc[[0]]).flatten()\n",
    "    #print(coefs)\n",
    "    probs = Pr_Y_given_X(coefs,1,X_male)\n",
    "    #print(probs[1])\n",
    "    preds = np.array([1 if p >= 0.5 else 0 for p in probs])\n",
    "    #print(P_Yhat_given_Y(preds, Y_male))\n",
    "    group1.append(P_Y_given_Yhat(preds, Y_male))\n",
    "    \n",
    "    probs = Pr_Y_given_X(coefs,1,X_female)\n",
    "   # print(probs[1])\n",
    "    preds = np.array([1 if p >= 0.5 else 0 for p in probs])\n",
    "    #print(P_Yhat_given_Y(preds, Y_female))\n",
    "    group2.append(P_Y_given_Yhat(preds, Y_female))\n",
    "    \n",
    "plt.scatter(x, np.array(group1)-np.array(group2))\n",
    "    "
   ]
  },
  {
   "cell_type": "code",
   "execution_count": null,
   "metadata": {},
   "outputs": [],
   "source": []
  }
 ],
 "metadata": {
  "kernelspec": {
   "display_name": "Python 3",
   "language": "python",
   "name": "python3"
  },
  "language_info": {
   "codemirror_mode": {
    "name": "ipython",
    "version": 3
   },
   "file_extension": ".py",
   "mimetype": "text/x-python",
   "name": "python",
   "nbconvert_exporter": "python",
   "pygments_lexer": "ipython3",
   "version": "3.6.5"
  }
 },
 "nbformat": 4,
 "nbformat_minor": 2
}
