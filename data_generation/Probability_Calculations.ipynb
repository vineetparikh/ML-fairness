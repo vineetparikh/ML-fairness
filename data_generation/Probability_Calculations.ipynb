{
 "cells": [
  {
   "cell_type": "code",
   "execution_count": null,
   "metadata": {},
   "outputs": [],
   "source": [
    "import numpy as np\n",
    "import random\n",
    "import itertools\n",
    "import scipy.stats"
   ]
  },
  {
   "cell_type": "code",
   "execution_count": null,
   "metadata": {},
   "outputs": [],
   "source": [
    "# def classify(X,w):\n",
    "#     P = 1/(1 + np.exp(-np.matmul(X,w)))\n",
    "#     return np.random.binomial(1,P)"
   ]
  },
  {
   "cell_type": "code",
   "execution_count": null,
   "metadata": {},
   "outputs": [],
   "source": [
    "# def bayes_opt(X, balance):\n",
    "#     feature_count = {}\n",
    "#     for r in X:\n",
    "#         x = str(r[0:len(r)-1])\n",
    "#         y = r[len(r)-1]\n",
    "#         if x in feature_count:\n",
    "#           (p,n,d) = feature_count[x]\n",
    "#           if y > 0:\n",
    "#             p += 1\n",
    "#           else:\n",
    "#             n += 1\n",
    "#           if p > n:\n",
    "#             d = np.random.binomial(1, n/(n+p)) if balance else 1 \n",
    "#           elif p < n:\n",
    "#             d = 0\n",
    "#           else:\n",
    "#             d = random.randint(0,1)\n",
    "#           feature_count[x] = (p,n,d)\n",
    "#         else:\n",
    "#           if y > 0:\n",
    "#             feature_count[x] = (1,0,1)\n",
    "#           else:\n",
    "#             feature_count[x] = (0,1,1)\n",
    "#     return feature_count"
   ]
  },
  {
   "cell_type": "code",
   "execution_count": null,
   "metadata": {},
   "outputs": [],
   "source": [
    "# def stat_parity(X, Y, d):\n",
    "#     b = np.apply_along_axis(lambda x : d[str(x)][2], 1, X)\n",
    "#     return b.sum() / len(b)\n",
    "\n",
    "# def equal_opp(X, Y, d):\n",
    "#     b = np.apply_along_axis(lambda x : d[str(x)][2], 1, X)\n",
    "#     return b[Y>0].sum() / len(b[Y>0])\n",
    "\n",
    "# def equal_unopp(X, Y, d):\n",
    "#     b = np.apply_along_axis(lambda x : d[str(x)][2], 1, X)\n",
    "#     return b[Y<1].sum() / len(b[Y<1])\n",
    "\n",
    "# def equal_acc(X, Y, d):\n",
    "#     b = np.apply_along_axis(lambda x : d[str(x)][2], 1, X)\n",
    "#     return np.square(b - Y).sum() / len(b)\n",
    "\n",
    "# def pred_value_parity_pos(X, Y, d):\n",
    "#     b = np.apply_along_axis(lambda x : d[str(x)][2], 1, X)\n",
    "#     return Y[b>0].sum() / len(Y[b>0])\n",
    "\n",
    "# def pred_value_parity_neg(X, Y, d):\n",
    "#     b = np.apply_along_axis(lambda x : d[str(x)][2], 1, X)\n",
    "#     return Y[b<1].sum() / len(Y[b<1])"
   ]
  },
  {
   "cell_type": "code",
   "execution_count": null,
   "metadata": {},
   "outputs": [],
   "source": [
    "# def compute_average(n,w,X,Y):\n",
    "#     avg_stat_parity = 0\n",
    "#     avg_equal_opp = 0\n",
    "#     avg_pred_value_parity_pos = 0\n",
    "#     for _ in range(n):   \n",
    "#         D = np.hstack((X,Y.reshape(s,1)))\n",
    "#         d = bayes_opt(D,False)\n",
    "#         avg_stat_parity += stat_parity(X,Y,d)\n",
    "#         avg_equal_opp += equal_opp(X,Y,d)\n",
    "#         avg_pred_value_parity_pos += pred_value_parity_pos(X,Y,d)\n",
    "#     avg_stat_parity /= n\n",
    "#     avg_equal_opp /= n\n",
    "#     avg_pred_value_parity_pos /= n\n",
    "#     print(\"stat_parity\", avg_stat_parity)\n",
    "#     print(\"equal_opp\", avg_equal_opp)\n",
    "#     print(\"pred_val_parity_pos\", avg_pred_value_parity_pos)"
   ]
  },
  {
   "cell_type": "code",
   "execution_count": null,
   "metadata": {},
   "outputs": [],
   "source": [
    "# n = 100\n",
    "# w = np.array([0.01,0.01])\n",
    "# s = 5000\n",
    "# X = np.random.multinomial(4, [1/2.]*2, size=s)\n",
    "# Y = classify(X,w)\n",
    "# compute_average(n,w,X,Y)\n",
    "# # X = np.random.multinomial(4, [1, 0], size=s)\n",
    "# # Y = classify(X,w)\n",
    "# # compute_average(n,w,X,Y)"
   ]
  },
  {
   "cell_type": "code",
   "execution_count": null,
   "metadata": {},
   "outputs": [],
   "source": [
    "# print(X)\n",
    "# print(Y)\n",
    "# D = np.hstack((X,Y.reshape(s,1)))\n",
    "# d = bayes_opt(D,False)\n",
    "# print(d)"
   ]
  },
  {
   "cell_type": "code",
   "execution_count": null,
   "metadata": {},
   "outputs": [],
   "source": [
    "# n = 100\n",
    "# w = np.array([0.01,0.01,0.01,0.01,0.01])\n",
    "# s = 3000\n",
    "# X = np.random.multinomial(5, [1/5.]*5, size=s)\n",
    "# Y = classify(X,w)\n",
    "# compute_average(n,w,X,Y)\n",
    "# X = np.random.multinomial(5, [0.8, 0.1, 0.1, 0, 0], size = s)\n",
    "# Y = classify(X,w)\n",
    "# compute_average(n,w,X,Y)"
   ]
  },
  {
   "cell_type": "code",
   "execution_count": null,
   "metadata": {},
   "outputs": [],
   "source": [
    "# avg = 0\n",
    "# n = 100\n",
    "# for _ in range(n):   \n",
    "#     w = np.array([1,1,1,1,1])\n",
    "#     X = np.random.multinomial(5, [1/5.]*5, size=1000)\n",
    "#     Y = classify(X,np.array([0.01,0.01,0.09,0.03,0.01]))\n",
    "#     D = np.hstack((X,Y.reshape(1000,1)))\n",
    "#     d = bayes_opt(D,False)\n",
    "#     avg += stat_parity(X,Y,d)\n",
    "# avg /= n\n",
    "# print(avg)"
   ]
  },
  {
   "cell_type": "code",
   "execution_count": null,
   "metadata": {},
   "outputs": [],
   "source": [
    "#All Probability functions give the probability that Y = 1\n",
    "def Pr_Y_given_X(X,w,b):\n",
    "    return 1/(1 + np.exp(-(np.matmul(X,w) + b)))"
   ]
  },
  {
   "cell_type": "code",
   "execution_count": null,
   "metadata": {},
   "outputs": [],
   "source": [
    "def partitions(n, b):\n",
    "    masks = np.identity(b, dtype=int)\n",
    "    for c in itertools.combinations_with_replacement(masks, n): \n",
    "        yield sum(c)\n",
    "output = np.array(list(partitions(4, 4)))"
   ]
  },
  {
   "cell_type": "code",
   "execution_count": null,
   "metadata": {},
   "outputs": [],
   "source": [
    "def Pr_Y(w,b,probs):\n",
    "    AllX = np.array(list(partitions(4,4)))\n",
    "    PrX = scipy.stats.multinomial.pmf(output, n = np.full(AllX.shape[0],4), p = probs)\n",
    "    return np.dot(Pr_Y_given_X(AllX,w,b), PrX)"
   ]
  },
  {
   "cell_type": "code",
   "execution_count": null,
   "metadata": {},
   "outputs": [],
   "source": [
    "X = np.array([[1,0,3,0],[2,2,0,0]])\n",
    "w = np.array([0.5, 0, 0.2, 0.1])\n",
    "b = -0.4\n",
    "probs = [0.3,0.2,0.4,0.1]\n",
    "PrY = Pr_Y(w,b,probs)\n",
    "print(PrY)\n",
    "probs = [0.6,0.2,0.1,0.1]\n",
    "PrY = Pr_Y(w,b,probs)\n",
    "print(PrY)"
   ]
  },
  {
   "cell_type": "code",
   "execution_count": null,
   "metadata": {},
   "outputs": [],
   "source": [
    "def Pr_Yhat_given_Y(w,b,probs,Y):\n",
    "    AllX = np.array(list(partitions(4,4)))\n",
    "    PrX = scipy.stats.multinomial.pmf(output, n = np.full(AllX.shape[0],4), p = probs)\n",
    "    if Y == 1:\n",
    "        return np.dot(np.square(Pr_Y_given_X(AllX,w,b)),PrX) / np.dot(Pr_Y_given_X(AllX,w,b), PrX)\n",
    "    else:\n",
    "        return np.dot(np.multiply(1 - Pr_Y_given_X(AllX,w,b),(Pr_Y_given_X(AllX,w,b))),PrX) / np.dot(Pr_Y_given_X(AllX,w,b), PrX)"
   ]
  },
  {
   "cell_type": "code",
   "execution_count": null,
   "metadata": {},
   "outputs": [],
   "source": [
    "probs = [0.3,0.2,0.4,0.1]\n",
    "PrYhatGivenY = Pr_Yhat_given_Y(w,b,probs,0)\n",
    "print(PrYhatGivenY)\n",
    "PrYhatGivenY = Pr_Yhat_given_Y(w,b,probs,1)\n",
    "print(PrYhatGivenY)\n",
    "probs = [0.6,0.2,0.1,0.1]\n",
    "PrYhatGivenY = Pr_Yhat_given_Y(w,b,probs,0)\n",
    "print(PrYhatGivenY)\n",
    "PrYhatGivenY = Pr_Yhat_given_Y(w,b,probs,1)\n",
    "print(PrYhatGivenY)"
   ]
  },
  {
   "cell_type": "code",
   "execution_count": null,
   "metadata": {},
   "outputs": [],
   "source": [
    "def ExpYminusYsq(w,b,probs):\n",
    "    return (1 - Pr_Yhat_given_Y(w,b,probs,1))*Pr_Y(w,b,probs) + Pr_Yhat_given_Y(w,b,probs,0)*(1 - Pr_Y(w,b,probs))"
   ]
  },
  {
   "cell_type": "code",
   "execution_count": null,
   "metadata": {},
   "outputs": [],
   "source": [
    "probs = [0.3,0.2,0.4,0.1]\n",
    "ExpYYsq = ExpYminusYsq(w,b,probs)\n",
    "print(ExpYYsq)\n",
    "probs = [0.6,0.2,0.1,0.1]\n",
    "ExpYYsq = ExpYminusYsq(w,b,probs)\n",
    "print(ExpYYsq)\n",
    "probs = [0.1,0.4,0.4,0.1]\n",
    "ExpYYsq = ExpYminusYsq(w,b,probs)\n",
    "print(ExpYYsq)"
   ]
  }
 ],
 "metadata": {
  "kernelspec": {
   "display_name": "Python 3",
   "language": "python",
   "name": "python3"
  },
  "language_info": {
   "codemirror_mode": {
    "name": "ipython",
    "version": 3
   },
   "file_extension": ".py",
   "mimetype": "text/x-python",
   "name": "python",
   "nbconvert_exporter": "python",
   "pygments_lexer": "ipython3",
   "version": "3.6.5"
  }
 },
 "nbformat": 4,
 "nbformat_minor": 2
}
